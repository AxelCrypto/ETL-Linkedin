{
 "cells": [
  {
   "cell_type": "code",
   "execution_count": null,
   "id": "d084ef1b",
   "metadata": {},
   "outputs": [],
   "source": [
    "import requests as req\n",
    "from bs4 import BeautifulSoup as bs\n",
    "import pandas as pd\n",
    "%pip install webdriver-manager\n",
    "from selenium import webdriver\n",
    "from webdriver_manager.chrome import ChromeDriverManager \n",
    "\n",
    "from selenium.webdriver.common.by import By # By es para buscar por tag, clase, id...\n",
    "\n",
    "import time\n",
    "import pandas as pd\n",
    "\n",
    "import warnings\n",
    "warnings.filterwarnings('ignore')"
   ]
  },
  {
   "cell_type": "markdown",
   "id": "5275f807",
   "metadata": {},
   "source": [
    "**URL**"
   ]
  },
  {
   "cell_type": "code",
   "execution_count": null,
   "id": "65eb6672",
   "metadata": {},
   "outputs": [],
   "source": [
    "# To update:\n",
    "job_id = 'data analyst'\n",
    "job = job_id.replace(' ','%20')\n",
    "location = 'Luxembourg'\n",
    "number_of_pages = 10"
   ]
  },
  {
   "cell_type": "code",
   "execution_count": null,
   "id": "c64d0736",
   "metadata": {},
   "outputs": [],
   "source": [
    "base = 'https://www.linkedin.com/jobs/search/?'\n",
    "url = base + 'keywords=' + job + '&location=' + location + '&refresh=true'\n",
    "url\n",
    "\n",
    "PATH = ChromeDriverManager().install()     # instala el driver de chrome\n",
    "\n",
    "driver=webdriver.Chrome(PATH)       # abre una venta una de chrome\n",
    "\n",
    "driver.get(url)\n",
    "\n",
    "time.sleep(5)\n",
    "\n",
    "driver.find_element(By.XPATH, '//button[@class=\"artdeco-global-alert-action artdeco-button artdeco-button--inverse artdeco-button--2 artdeco-button--primary\"]').click()\n",
    "\n",
    "time.sleep(2)\n",
    "\n",
    "#Connection is sometime necessary to access all jobs."
   ]
  },
  {
   "cell_type": "markdown",
   "id": "9e540858",
   "metadata": {},
   "source": [
    "**Scroll**"
   ]
  },
  {
   "cell_type": "code",
   "execution_count": null,
   "id": "125860e6",
   "metadata": {},
   "outputs": [],
   "source": [
    "\n",
    "time.sleep(2)\n",
    "\n",
    "driver.execute_script('window.scrollTo(0, 1000000);')\n",
    "time.sleep(2)\n",
    "driver.execute_script('window.scrollTo(0, 10);')\n",
    "time.sleep(1)\n",
    "\n",
    "driver.execute_script('window.scrollTo(0, 1000000);')\n",
    "time.sleep(2)\n",
    "driver.execute_script('window.scrollTo(0, 10);')\n",
    "time.sleep(1)\n",
    "\n",
    "driver.execute_script('window.scrollTo(0, 1000000);')\n",
    "time.sleep(2)\n",
    "driver.execute_script('window.scrollTo(0, 10);')\n",
    "time.sleep(1)\n",
    "\n",
    "driver.execute_script('window.scrollTo(0, 1000000);') \n",
    "time.sleep(2)\n",
    "driver.execute_script('window.scrollTo(0, 10);')\n",
    "time.sleep(1)\n",
    "\n",
    "driver.execute_script('window.scrollTo(0, 1000000);')\n",
    "time.sleep(2)\n",
    "driver.execute_script('window.scrollTo(0, 10);')\n",
    "time.sleep(1)\n",
    "\n",
    "driver.execute_script('window.scrollTo(0, 1000000);')  \n",
    "time.sleep(2)\n",
    "\n",
    "try:\n",
    "\n",
    "    driver.find_element(By.XPATH, '//button[@class=\"infinite-scroller__show-more-button infinite-scroller__show-more-button--visible\"]').click()\n",
    "except:\n",
    "    pass\n",
    "\n",
    "count = 0\n",
    "while count < number_of_pages:\n",
    "\n",
    "    driver.execute_script('window.scrollTo(0, 1000000);')\n",
    "    time.sleep(2)\n",
    "\n",
    "    try : \n",
    "        driver.find_element(By.XPATH, '//button[@class=\"infinite-scroller__show-more-button infinite-scroller__show-more-button--visible\"]').click()\n",
    "\n",
    "        count = count +1\n",
    "    except:\n",
    "        count = count +1000"
   ]
  },
  {
   "cell_type": "markdown",
   "id": "58bd8eee",
   "metadata": {},
   "source": [
    "**Data**"
   ]
  },
  {
   "cell_type": "code",
   "execution_count": null,
   "id": "71313eff",
   "metadata": {
    "scrolled": true
   },
   "outputs": [],
   "source": [
    "jobs = [e.text for e in driver.find_elements(By.XPATH, '//li/div//*//h3[@class=\"base-search-card__title\"]')]\n",
    "links = [e.get_attribute('href') for e in driver.find_elements(By.XPATH, '//li/div//a[@class=\"base-card__full-link absolute top-0 right-0 bottom-0 left-0 p-0 z-[2]\"]')]\n",
    "companies = [e.text for e in driver.find_elements(By.XPATH, '//li/div//*//h4[@class=\"base-search-card__subtitle\"]')]\n",
    "id_ = [e.get_attribute('data-entity-urn').split(':')[3] for e in driver.find_elements(By.XPATH, '//li/div[@class=\"base-card relative w-full hover:no-underline focus:no-underline base-card--link base-search-card base-search-card--link job-search-card\"]')]\n",
    "where = [e.text for e in driver.find_elements(By.XPATH, '//li/div/div/div/span[@class=\"job-search-card__location\"]')]\n",
    "time = [e.get_attribute('datetime') for e in driver.find_elements(By.XPATH, '//li/div/div/div/time')]\n",
    "\n",
    "lenght = min(len(jobs),len(id_),len(companies),len(where),len(time),len(links))\n",
    "\n",
    "df = {'jobs':jobs[:lenght],\n",
    "     'companies':companies[:lenght],\n",
    "     'where':where[:lenght],\n",
    "      'time':time[:lenght],\n",
    "          'id':id_[:lenght],\n",
    "     'links':links[:lenght]}\n",
    "\n",
    "df = pd.DataFrame(df)\n",
    "df.to_csv(f'data/{job}.csv')"
   ]
  },
  {
   "cell_type": "code",
   "execution_count": null,
   "id": "525d72dc",
   "metadata": {},
   "outputs": [],
   "source": []
  }
 ],
 "metadata": {
  "kernelspec": {
   "display_name": "Python 3 (ipykernel)",
   "language": "python",
   "name": "python3"
  },
  "language_info": {
   "codemirror_mode": {
    "name": "ipython",
    "version": 3
   },
   "file_extension": ".py",
   "mimetype": "text/x-python",
   "name": "python",
   "nbconvert_exporter": "python",
   "pygments_lexer": "ipython3",
   "version": "3.9.13"
  }
 },
 "nbformat": 4,
 "nbformat_minor": 5
}
